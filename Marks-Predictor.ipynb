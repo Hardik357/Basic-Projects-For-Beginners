{
 "cells": [
  {
   "cell_type": "code",
   "execution_count": 6,
   "id": "287f00a1",
   "metadata": {},
   "outputs": [],
   "source": [
    "import pandas as pd\n",
    "import numpy as np\n",
    "import matplotlib.pyplot as plt\n",
    "from sklearn.model_selection import train_test_split\n",
    "from sklearn.utils import shuffle\n",
    "from sklearn.linear_model import LinearRegression\n",
    "from sklearn.metrics import mean_squared_error"
   ]
  },
  {
   "cell_type": "code",
   "execution_count": 33,
   "id": "2fd30724",
   "metadata": {},
   "outputs": [
    {
     "data": {
      "text/plain": [
       "LinearRegression()"
      ]
     },
     "execution_count": 33,
     "metadata": {},
     "output_type": "execute_result"
    }
   ],
   "source": [
    "data = pd.read_csv('/home/k1utch/Downloads/data/student-mat.csv', sep=\";\")\n",
    "data = data[['studytime','absences', 'failures', 'G1', 'G2', 'G3']]\n",
    "predict = \"G3\"\n",
    "\n",
    "X = np.array(data.drop([predict], axis=1))\n",
    "y = np.array(data[predict])\n",
    "\n",
    "X_train, X_test, y_train, y_test = train_test_split(X, y, test_size=0.1)\n",
    "# X_train = X_train.shuffle\n",
    "\n",
    "model = LinearRegression()\n",
    "\n",
    "model.fit(X_train, y_train)"
   ]
  },
  {
   "cell_type": "code",
   "execution_count": 75,
   "id": "1faa0e71",
   "metadata": {},
   "outputs": [
    {
     "name": "stdout",
     "output_type": "stream",
     "text": [
      "0.8917900780345157\n"
     ]
    }
   ],
   "source": [
    "y_pred = model.predict(X_test)\n",
    "# loss = mean_squared_error(y_pred, y_test)\n",
    "# print(loss)\n",
    "\n",
    "acc = model.score(X_test, y_test)\n",
    "print(acc)"
   ]
  },
  {
   "cell_type": "code",
   "execution_count": 73,
   "id": "0e357212",
   "metadata": {},
   "outputs": [
    {
     "name": "stdout",
     "output_type": "stream",
     "text": [
      "15 - 15\n",
      "11 - 11\n",
      "11 - 11\n",
      "0 - 0\n",
      "11 - 11\n",
      "12 - 12\n",
      "10 - 10\n",
      "9 - 9\n",
      "12 - 12\n",
      "18 - 18\n"
     ]
    }
   ],
   "source": [
    "def truncate(n):\n",
    "    return int(n * 1000) / 1000\n",
    "\n",
    "for x in range(len(y_pred)):\n",
    "    pred = int(truncate(y_pred[x]))\n",
    "    real = y_test[x]\n",
    "    if pred == real:\n",
    "#         print(len(y_pred))\n",
    "        print(pred,'-',real)"
   ]
  }
 ],
 "metadata": {
  "kernelspec": {
   "display_name": "Python 3.8.5 64-bit",
   "language": "python",
   "name": "python385jvsc74a57bd0916dbcbb3f70747c44a77c7bcd40155683ae19c65e1c03b4aa3499c5328201f1"
  },
  "language_info": {
   "codemirror_mode": {
    "name": "ipython",
    "version": 3
   },
   "file_extension": ".py",
   "mimetype": "text/x-python",
   "name": "python",
   "nbconvert_exporter": "python",
   "pygments_lexer": "ipython3",
   "version": "3.8.5"
  }
 },
 "nbformat": 4,
 "nbformat_minor": 5
}
