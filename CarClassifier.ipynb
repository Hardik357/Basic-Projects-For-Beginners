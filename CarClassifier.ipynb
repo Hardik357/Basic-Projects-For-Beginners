{
 "cells": [
  {
   "cell_type": "code",
   "execution_count": 64,
   "id": "814bb1a3",
   "metadata": {},
   "outputs": [],
   "source": [
    "import pandas as pd\n",
    "import numpy as np\n",
    "import matplotlib.pyplot as plt\n",
    "from sklearn import preprocessing"
   ]
  },
  {
   "cell_type": "code",
   "execution_count": 66,
   "id": "df290aed",
   "metadata": {},
   "outputs": [
    {
     "name": "stdout",
     "output_type": "stream",
     "text": [
      "     buying maint   door persons lug_boot safety class_car\n",
      "1150    med   med      4       4      big    med       acc\n",
      "1151    med   med      4       4      big   high     vgood\n",
      "1152    med   med      4    more    small    low     unacc\n",
      "1153    med   med      4    more    small    med       acc\n",
      "1154    med   med      4    more    small   high       acc\n",
      "1155    med   med      4    more      med    low     unacc\n",
      "1156    med   med      4    more      med    med       acc\n",
      "1157    med   med      4    more      med   high     vgood\n",
      "1158    med   med      4    more      big    low     unacc\n",
      "1159    med   med      4    more      big    med       acc\n",
      "1160    med   med      4    more      big   high     vgood\n",
      "1161    med   med  5more       2    small    low     unacc\n",
      "1162    med   med  5more       2    small    med     unacc\n",
      "1163    med   med  5more       2    small   high     unacc\n",
      "1164    med   med  5more       2      med    low     unacc\n",
      "1165    med   med  5more       2      med    med     unacc\n",
      "1166    med   med  5more       2      med   high     unacc\n",
      "1167    med   med  5more       2      big    low     unacc\n",
      "1168    med   med  5more       2      big    med     unacc\n",
      "1169    med   med  5more       2      big   high     unacc\n",
      "1170    med   med  5more       4    small    low     unacc\n",
      "1171    med   med  5more       4    small    med       acc\n",
      "1172    med   med  5more       4    small   high       acc\n",
      "1173    med   med  5more       4      med    low     unacc\n",
      "1174    med   med  5more       4      med    med       acc\n",
      "1175    med   med  5more       4      med   high     vgood\n",
      "1176    med   med  5more       4      big    low     unacc\n",
      "1177    med   med  5more       4      big    med       acc\n",
      "1178    med   med  5more       4      big   high     vgood\n",
      "1179    med   med  5more    more    small    low     unacc\n",
      "1180    med   med  5more    more    small    med       acc\n",
      "1181    med   med  5more    more    small   high       acc\n",
      "1182    med   med  5more    more      med    low     unacc\n",
      "1183    med   med  5more    more      med    med       acc\n",
      "1184    med   med  5more    more      med   high     vgood\n",
      "1185    med   med  5more    more      big    low     unacc\n",
      "1186    med   med  5more    more      big    med       acc\n",
      "1187    med   med  5more    more      big   high     vgood\n",
      "1188    med   low      2       2    small    low     unacc\n",
      "1189    med   low      2       2    small    med     unacc\n",
      "1190    med   low      2       2    small   high     unacc\n",
      "1191    med   low      2       2      med    low     unacc\n",
      "1192    med   low      2       2      med    med     unacc\n",
      "1193    med   low      2       2      med   high     unacc\n",
      "1194    med   low      2       2      big    low     unacc\n",
      "1195    med   low      2       2      big    med     unacc\n",
      "1196    med   low      2       2      big   high     unacc\n",
      "1197    med   low      2       4    small    low     unacc\n",
      "1198    med   low      2       4    small    med       acc\n",
      "1199    med   low      2       4    small   high      good\n",
      "1200    med   low      2       4      med    low     unacc\n"
     ]
    }
   ],
   "source": [
    "data = pd.read_csv('/home/k1utch/Downloads/data/car.data')\n",
    "print(data[1150:1201])"
   ]
  },
  {
   "cell_type": "code",
   "execution_count": 10,
   "id": "06f3f381",
   "metadata": {},
   "outputs": [],
   "source": [
    "le = preprocessing.LabelEncoder()"
   ]
  },
  {
   "cell_type": "code",
   "execution_count": 69,
   "id": "da9d4f4c",
   "metadata": {},
   "outputs": [
    {
     "name": "stdout",
     "output_type": "stream",
     "text": [
      "[0 2 0 0 2 2 2 2 2 2 2 2 2 2 0 0 2 0 0 2 0 3 2 2 2 2 0 0 2 0 3 2 2 2 2 2 2\n",
      " 2 2 2 2 0 0 2 0 0 2 0 3 2 0 0 2 0 3 2 0 3 2 2 2 2 2 2 2 2 2 2 0 0 2 0 3 2\n",
      " 0 3 2 0 0 2 0 3 2 0 3 2 2 2 2 2 2 2 2 2 2 0 0 2 0 3 2 0 3 2 0 0 2 0 3 2 0\n",
      " 3 2 2 2 2 2 2 2 2 2 2 0 1 2 0 1 2 1 3 2 2 2 2 0 1 2 1 3 2 2 2 2 2 2 2 2 2\n",
      " 2 0 1 2 0 1 2 1 3 2 0 1 2 1 3 2 1 3 2 2 2 2 2 2 2 2 2 2 0 1 2 1 3 2 1 3 2\n",
      " 0 1 2 1 3 2 1 3 2 2 2 2 2 2 2 2 2 2 0 1 2 1 3 2 1 3 2 0 1 2 1 3 2 1 3 2 2\n",
      " 2 2 2 2 2 2 2 2 0 1 2 0 1 2 1 3 2 2 2 2 0 1 2 1 3 2 2 2 2 2 2 2 2 2 2 0 1\n",
      " 2 0 1 2 1 3 2 0 1 2 1 3 2 1 3 2 2 2 2 2 2 2 2 2 2 0 1 2 1 3 2 1 3 2 0 1 2\n",
      " 1 3 2 1]\n"
     ]
    }
   ],
   "source": [
    "buying = le.fit_transform(list(data['buying']))\n",
    "maint = le.fit_transform(list(data['maint']))\n",
    "door = le.fit_transform(list(data['door']))\n",
    "persons = le.fit_transform(list(data['persons']))\n",
    "lug_boot = le.fit_transform(list(data['lug_boot']))\n",
    "safety = le.fit_transform(list(data['safety']))\n",
    "class_car = le.fit_transform(list(data['class_car']))\n",
    "\n",
    "print(class_car[1400:1700])"
   ]
  },
  {
   "cell_type": "code",
   "execution_count": 17,
   "id": "5fca86d2",
   "metadata": {},
   "outputs": [],
   "source": [
    "predict = 'class'\n",
    "# data.corr"
   ]
  },
  {
   "cell_type": "code",
   "execution_count": 19,
   "id": "eadcf1da",
   "metadata": {},
   "outputs": [],
   "source": [
    "X = list(zip(buying,maint,door,persons,lug_boot,safety))\n",
    "y = list(class_car)"
   ]
  },
  {
   "cell_type": "code",
   "execution_count": 20,
   "id": "585ac0da",
   "metadata": {},
   "outputs": [],
   "source": [
    "from sklearn.model_selection import train_test_split\n",
    "X_train, X_test, y_train, y_test = train_test_split(X, y, test_size=0.2)"
   ]
  },
  {
   "cell_type": "code",
   "execution_count": 31,
   "id": "c533d63d",
   "metadata": {},
   "outputs": [
    {
     "data": {
      "text/plain": [
       "KNeighborsClassifier()"
      ]
     },
     "execution_count": 31,
     "metadata": {},
     "output_type": "execute_result"
    }
   ],
   "source": [
    "from sklearn.neighbors import KNeighborsClassifier\n",
    "\n",
    "model = KNeighborsClassifier(n_neighbors=5)\n",
    "\n",
    "model.fit(X_train, y_train)"
   ]
  },
  {
   "cell_type": "code",
   "execution_count": 34,
   "id": "1b892393",
   "metadata": {},
   "outputs": [
    {
     "name": "stdout",
     "output_type": "stream",
     "text": [
      "0.8815028901734104\n"
     ]
    }
   ],
   "source": [
    "acc = model.score(X_test, y_test)\n",
    "print(acc)"
   ]
  },
  {
   "cell_type": "code",
   "execution_count": 75,
   "id": "359b67fc",
   "metadata": {},
   "outputs": [],
   "source": [
    "pred = model.predict(X_test)\n",
    "\n",
    "for x in pred:\n",
    "    if x==0:\n",
    "        x = 'acc'\n",
    "    elif x==1:\n",
    "        x = 'Good'\n",
    "    elif x==2:\n",
    "        x = 'unacc'\n",
    "    elif x==3:\n",
    "        x = 'Very Good'"
   ]
  },
  {
   "cell_type": "code",
   "execution_count": null,
   "id": "c5609705",
   "metadata": {},
   "outputs": [],
   "source": []
  }
 ],
 "metadata": {
  "kernelspec": {
   "display_name": "Python 3",
   "language": "python",
   "name": "python3"
  },
  "language_info": {
   "codemirror_mode": {
    "name": "ipython",
    "version": 3
   },
   "file_extension": ".py",
   "mimetype": "text/x-python",
   "name": "python",
   "nbconvert_exporter": "python",
   "pygments_lexer": "ipython3",
   "version": "3.8.5"
  }
 },
 "nbformat": 4,
 "nbformat_minor": 5
}
